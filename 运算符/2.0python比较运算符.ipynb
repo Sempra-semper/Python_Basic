{
 "cells": [
  {
   "cell_type": "code",
   "execution_count": 1,
   "metadata": {},
   "outputs": [
    {
     "name": "stdout",
     "output_type": "stream",
     "text": [
      "1 - a 不等于 b\n",
      "2 - a 不等于 b\n",
      "4 - a 大于等于 b\n",
      "5 - a 大于 b\n",
      "6 - a 小于等于 b\n",
      "7 - b 大于等于 a\n"
     ]
    }
   ],
   "source": [
    "#!/usr/bin/python\n",
    "# -*- coding: UTF-8 -*-\n",
    " \n",
    "a = 21\n",
    "b = 10\n",
    "c = 0\n",
    " \n",
    "if  a == b :\n",
    "   print (\"1 - a 等于 b\")\n",
    "else:\n",
    "   print (\"1 - a 不等于 b\")\n",
    " \n",
    "if  a != b :\n",
    "   print (\"2 - a 不等于 b\")\n",
    "else:\n",
    "   print (\"2 - a 等于 b\")\n",
    " \n",
    "if  a < b :\n",
    "   print (\"4 - a 小于 b\" )\n",
    "else:\n",
    "   print (\"4 - a 大于等于 b\")\n",
    " \n",
    "if  a > b :\n",
    "   print (\"5 - a 大于 b\")\n",
    "else:\n",
    "   print( \"5 - a 小于等于 b\")\n",
    " \n",
    "# 修改变量 a 和 b 的值\n",
    "a = 5\n",
    "b = 20\n",
    "if  a <= b :\n",
    "   print( \"6 - a 小于等于 b\")\n",
    "else:\n",
    "   print (\"6 - a 大于  b\")\n",
    " \n",
    "if  b >= a :\n",
    "   print (\"7 - b 大于等于 a\")\n",
    "else:\n",
    "   print (\"7 - b 小于 a\")"
   ]
  },
  {
   "cell_type": "code",
   "execution_count": null,
   "metadata": {},
   "outputs": [],
   "source": []
  }
 ],
 "metadata": {
  "kernelspec": {
   "display_name": "Python 3",
   "language": "python",
   "name": "python3"
  },
  "language_info": {
   "codemirror_mode": {
    "name": "ipython",
    "version": 3
   },
   "file_extension": ".py",
   "mimetype": "text/x-python",
   "name": "python",
   "nbconvert_exporter": "python",
   "pygments_lexer": "ipython3",
   "version": "3.7.4"
  }
 },
 "nbformat": 4,
 "nbformat_minor": 4
}
