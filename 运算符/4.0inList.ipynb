{
 "cells": [
  {
   "cell_type": "code",
   "execution_count": 1,
   "metadata": {},
   "outputs": [
    {
     "name": "stdout",
     "output_type": "stream",
     "text": [
      "1 - 变量 a 不在给定的列表中 list 中\n",
      "2 - 变量 b 不在给定的列表中 list 中\n",
      "3 - 变量 a 在给定的列表中 list 中\n"
     ]
    }
   ],
   "source": [
    "#!/usr/bin/python3\n",
    " \n",
    "a = 10\n",
    "b = 20\n",
    "list = [1, 2, 3, 4, 5 ]\n",
    " \n",
    "if ( a in list ):\n",
    "   print (\"1 - 变量 a 在给定的列表中 list 中\")\n",
    "else:\n",
    "   print (\"1 - 变量 a 不在给定的列表中 list 中\")\n",
    " \n",
    "if ( b not in list ):\n",
    "   print (\"2 - 变量 b 不在给定的列表中 list 中\")\n",
    "else:\n",
    "   print (\"2 - 变量 b 在给定的列表中 list 中\")\n",
    " \n",
    "# 修改变量 a 的值\n",
    "a = 2\n",
    "if ( a in list ):\n",
    "   print (\"3 - 变量 a 在给定的列表中 list 中\")\n",
    "else:\n",
    "   print (\"3 - 变量 a 不在给定的列表中 list 中\")"
   ]
  },
  {
   "cell_type": "code",
   "execution_count": null,
   "metadata": {},
   "outputs": [],
   "source": []
  }
 ],
 "metadata": {
  "kernelspec": {
   "display_name": "Python 3",
   "language": "python",
   "name": "python3"
  },
  "language_info": {
   "codemirror_mode": {
    "name": "ipython",
    "version": 3
   },
   "file_extension": ".py",
   "mimetype": "text/x-python",
   "name": "python",
   "nbconvert_exporter": "python",
   "pygments_lexer": "ipython3",
   "version": "3.7.4"
  }
 },
 "nbformat": 4,
 "nbformat_minor": 4
}
